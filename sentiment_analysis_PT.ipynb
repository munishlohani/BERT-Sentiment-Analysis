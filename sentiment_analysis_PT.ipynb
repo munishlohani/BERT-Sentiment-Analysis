{
 "cells": [
  {
   "cell_type": "code",
   "execution_count": 1,
   "id": "4a72c11c-2769-45be-935e-c64b085bf2e8",
   "metadata": {},
   "outputs": [],
   "source": [
    "\n",
    "import tensorflow as tf\n",
    "import torch\n",
    "import pandas as pd\n",
    "import numpy as np\n",
    "import bs4 as soup\n",
    "\n",
    "from transformers import AutoTokenizer, AutoModelForSequenceClassification\n",
    "\n",
    "import requests\n",
    "import re"
   ]
  },
  {
   "cell_type": "code",
   "execution_count": 2,
   "id": "a9a891dc-5275-4567-be8f-74770588c62b",
   "metadata": {},
   "outputs": [],
   "source": [
    "\n",
    "tokenizer = AutoTokenizer.from_pretrained(\"nlptown/bert-base-multilingual-uncased-sentiment\")\n",
    "model = AutoModelForSequenceClassification.from_pretrained(\"nlptown/bert-base-multilingual-uncased-sentiment\")"
   ]
  },
  {
   "cell_type": "code",
   "execution_count": 34,
   "id": "03eb9c11-2033-4eb6-9e41-392da6f3c86e",
   "metadata": {},
   "outputs": [],
   "source": [
    "\n",
    "token = tokenizer.encode(\"Hello there\",return_tensors='pt')\n"
   ]
  },
  {
   "cell_type": "code",
   "execution_count": 35,
   "id": "15737e9a-ee7d-451e-ac83-bca99233aa2a",
   "metadata": {},
   "outputs": [
    {
     "data": {
      "text/plain": [
       "tensor([[  101, 29155, 10768,   102]])"
      ]
     },
     "execution_count": 35,
     "metadata": {},
     "output_type": "execute_result"
    }
   ],
   "source": [
    "token"
   ]
  },
  {
   "cell_type": "code",
   "execution_count": 20,
   "id": "272a2b72-0398-4bca-9df7-9ce8a8c1238c",
   "metadata": {},
   "outputs": [],
   "source": [
    "results=model(token)"
   ]
  },
  {
   "cell_type": "code",
   "execution_count": 21,
   "id": "b2991c55-426b-4690-9cfb-0c0a1bb173e4",
   "metadata": {},
   "outputs": [
    {
     "data": {
      "text/plain": [
       "SequenceClassifierOutput(loss=None, logits=tensor([[-0.5521, -1.2431, -0.3573,  0.2156,  1.5962]],\n",
       "       grad_fn=<AddmmBackward0>), hidden_states=None, attentions=None)"
      ]
     },
     "execution_count": 21,
     "metadata": {},
     "output_type": "execute_result"
    }
   ],
   "source": [
    "results"
   ]
  },
  {
   "cell_type": "code",
   "execution_count": 23,
   "id": "971abcc8-f7ba-4009-83aa-9103b357683b",
   "metadata": {},
   "outputs": [
    {
     "data": {
      "text/plain": [
       "5"
      ]
     },
     "execution_count": 23,
     "metadata": {},
     "output_type": "execute_result"
    }
   ],
   "source": [
    "int(torch.argmax(results.logits))+1"
   ]
  },
  {
   "cell_type": "code",
   "execution_count": 24,
   "id": "69e0cf0b-d5b6-471b-9502-ca3e7a13c93a",
   "metadata": {},
   "outputs": [
    {
     "data": {
      "text/plain": [
       "tensor([[-0.5521, -1.2431, -0.3573,  0.2156,  1.5962]],\n",
       "       grad_fn=<AddmmBackward0>)"
      ]
     },
     "execution_count": 24,
     "metadata": {},
     "output_type": "execute_result"
    }
   ],
   "source": [
    "results.logits"
   ]
  },
  {
   "cell_type": "code",
   "execution_count": 122,
   "id": "790dab7b-0bd0-402c-9ab4-67c13d719e39",
   "metadata": {},
   "outputs": [],
   "source": [
    "from bs4 import BeautifulSoup\n",
    "url=requests.get(\"https://www.yelp.com/biz/hard-rock-cafe-san-francisco-5\")\n",
    "soup=BeautifulSoup(url.text,'html.parser')\n",
    "regex=re.compile('.*comment*.')\n",
    "results=soup.find_all('p',{'class':regex})"
   ]
  },
  {
   "cell_type": "code",
   "execution_count": 123,
   "id": "1c72e81f-2014-471e-bd53-1e6f583d1281",
   "metadata": {},
   "outputs": [
    {
     "data": {
      "text/plain": [
       "[<p class=\"comment__09f24__D0cxf css-qgunke\"><span class=\"raw__09f24__T4Ezm\" lang=\"en\">The last time I went to a Hard Rock Cafe was years ago in Vegas, and didn't remember what it was like. After coming here, makes sense why it wasn't memorable. It's definitely a tourist spot and I was expecting a more exciting menu. Their menu is pretty limited food wise and pricey for what they serve. All they really serve is burgers and chicken sandwiches with maybe 5 other entrees to pick from. My coworker and I decided to go to Pier 39 after a work conference. We ate at the restaurant around 5:30 on a Thursday and we were seated right away. The place wasn't too busy, one large group and maybe 5 or 6 other tables were full. There was a live DJ playing. <br/><br/>I ordered their Mac and cheese and my friend got a burger. We also got the onion ring tower and I ordered their signature hurricane with the souvenir glass for $5 more and you also get 8 oz more of the beverage. The Mac and cheese was ok, it had a strong red bell pepper flavor to it. The burger was good but the fries were bland. Our favorite item was the onion rings. They came out piping hot and crispy. The hurricane was tasty, definitely my type of tropical flavors. <br/><br/>Overall it was alright, not a place I'd choose to go to again even if I were to bring people from out of town into the Bay. There's better options for food even for tourist spots. The restaurant was clean and service was fine.</span></p>,\n",
       " <p class=\"comment__09f24__ZU8MN css-qgunke\"><span class=\"raw__09f24__T4Ezm\">Hello Elizabeth, apologies for your unacceptable experience here in SF. We are always working to improve and thank you for the feedback. We hope to see you again so show you who we really are. Cheers!</span> </p>,\n",
       " <p class=\"comment__09f24__D0cxf css-qgunke\"><span class=\"raw__09f24__T4Ezm\" lang=\"en\">First I have to agree with Jessica's post.  If you're looking for a great meal with wonderful atmophere, Hard Rock Cafe can't be beat.  Yes, it's a must visit.<br/><br/>One reason that I chose to eat here was because I didn't want to go to the other restaurant.  The other place was Bubba Gump's which was at the end of the pier.  The other reason was because I am a AAA member and this was on the list.  By the way, both are on the list.<br/><br/>I ordered the Legendary Burger which when it arrived was larger than it was display on the menu.  Very good and messy.  It definitely came out as I ordered it.  It came with French fries, but I was already too full.<br/><br/>The service by Juliesca was excellent.  Very friendly and pretty much was the only waitress around.  It was not packed on an early Sunday afternoon.<br/><br/>I would return the next time that I am back in the city.</span></p>,\n",
       " <p class=\"comment__09f24__ZU8MN css-qgunke\"><span class=\"raw__09f24__T4Ezm\">Hello Samson, thankyou for the great review. Hope to see you again soon! Cheers!</span> </p>,\n",
       " <p class=\"comment__09f24__D0cxf css-qgunke\"><span class=\"raw__09f24__T4Ezm\" lang=\"en\">If you're looking for a great meal with a fun atmosphere, Hard Rock Cafe on Pier 39 in San Francisco is a must-visit. My family and I had a wonderful time here, and we couldn't stop raving about the food. The Messi burger was a standout - juicy, flavorful, and cooked to perfection. But it wasn't just the burgers that impressed us - all of our entrees were delicious and satisfying, with generous portions that left us feeling full and happy.<br/><br/>But it's not just about the food at Hard Rock Cafe. The lively atmosphere and music memorabilia add to the overall experience, making this a fun spot for families and kids. We loved checking out the guitars, gold records, and other rock 'n' roll artifacts while enjoying our meal. And the service was excellent too - our server was friendly, attentive, and made sure we had everything we needed.<br/><br/>Overall, we highly recommend the Hard Rock Cafe in San Francisco. It's a great spot for a meal, whether you're a music fan or just looking for a fun dining experience. We'll definitely be back!</span></p>,\n",
       " <p class=\"comment__09f24__ZU8MN css-qgunke\"><span class=\"raw__09f24__T4Ezm\">Hello, thank you for the great review and 5 stars. We hope to see you again soon. Cheers!</span> </p>,\n",
       " <p class=\"comment__09f24__D0cxf css-qgunke\"><span class=\"raw__09f24__T4Ezm\" lang=\"en\">Stopped in for lunch before the Blue Angels show at the wharf on Saturday. We had made a reservation for four on the app and were sat right away by the friendly hostess. The place is cool and mellow. Always something to look at. <br/><br/>We had Donna as are server. She was great and funny. Full of great info and very accommodating with several special adjustments for a vegetarian and a picky kid. <br/><br/>They have a big bar area if you want to just swing in for a drink and check it out.<br/><br/>The onion rings were very hot &amp; good. I got the grilled chicken sandwich, it was perfectly fine. But nothing too special. My wife got chicken noodle salad with the chicken on the side, as she's a vegetarian. My sister in law got chicken strips. The teenager got burger sliders. <br/><br/>The rating is based on:<br/>3 for food (what you'd expect from a chain like this)<br/>5 for server (Donna) <br/>and <br/>4 atmosphere (lots to look at)<br/><br/>It's one of the better choices for a casual lunch, if you find yourself at the wharf.</span></p>,\n",
       " <p class=\"comment__09f24__ZU8MN css-qgunke\"><span class=\"raw__09f24__T4Ezm\">Hello Matthew, thank you for the great feedback. Donna is amazing! Apologies for the 3 star rating on the food. We will do better. Hope to see you again soon. Best.</span> </p>,\n",
       " <p class=\"comment__09f24__D0cxf css-qgunke\"><span class=\"raw__09f24__T4Ezm\" lang=\"en\">exceptionally delicious. We had some chicken wings as a starter, I loved the baby back ribs main dishes,ribeye it was also delicious. The most exquisite part was the dessert, the chocolate brownie! <br/>Very attentive management, and staff... restrooms clean, and stocked, recommend it 100%!</span></p>,\n",
       " <p class=\"comment__09f24__ZU8MN css-qgunke\"><span class=\"raw__09f24__T4Ezm\">Hello Katherine, thank you for the great review and 5 stars. We hope to see you again soon! Cheers!</span> </p>,\n",
       " <p class=\"comment__09f24__D0cxf css-qgunke\"><span class=\"raw__09f24__T4Ezm\" lang=\"en\">Of the numerous times we've been to the city, I've never picked up a T-shirt from here.  HRC t's are my must-have travel souvenir.  I've been to a few :<br/><br/>Barcelona <br/>Buenos Aires <br/>Cayman Islands <br/>Honolulu<br/>Key West<br/>Kona <br/>Lima<br/>London <br/>Los Angeles <br/>Maui <br/>Miami<br/>New Orleans <br/>New York <br/>Paris<br/>Philadelphia <br/>Phoenix <br/>Rome<br/>San Francisco <br/>Seattle <br/>Tokyo<br/>Washington D.C.<br/><br/>ATMOSPHERE:<br/>Located in bustling and tourist-infested Pier 39, they couldn't have picked a more lucrative spot (relocated once).  The exterior features a big steel structure outline of a guitar which you walk through to enter the restaurant.  Inside, it's a no-frills, open space with the usual memorabilia adorning the walls.  The good-sized Rock Shop has a separate entrance but seamlessly blends into the restaurant.  <br/><br/>THE PURCHASE:<br/>I loathe the white tee with the original design.  I want a unique-looking motif, which I found for $35!<br/><br/>I've never seen it at any other location.  It's a tasteful blue &amp; white tie dye color with the original logo in a different typeface.  Perfect!<br/><br/>SERVICE:<br/>Really good.  One associate asked if I needed assistance as I was perusing the merch and the cashier was very friendly and engaging.  <br/><br/>TIP:<br/>Fear not as the loud overhead music is part of their bygone era.  <br/><br/>OVERALL:<br/>Long live HRC!</span></p>,\n",
       " <p class=\"comment__09f24__ZU8MN css-qgunke\"><span class=\"raw__09f24__T4Ezm\">Hello Vince. Thank you for the great feedback. Hope to see you again soon!</span> </p>,\n",
       " <p class=\"comment__09f24__D0cxf css-qgunke\"><span class=\"raw__09f24__T4Ezm\" lang=\"en\">During my recent visit to Hard Rock Cafe on Pier 39 in San Francisco, I was immediately impressed by the restaurant's expansive and spacious layout. The ambiance was lively, and the staff welcomed me with a friendly and courteous demeanor. However, I did notice that the service was a bit slow, and it took longer than expected for our orders to be fulfilled.<br/><br/>Nevertheless, any concerns about the service were quickly overshadowed by the delicious food they served. As a devoted fan of loaded cheese nachos and impossible burgers, I was thrilled to find that Hard Rock Cafe's versions of these dishes were exceptional. The nachos were loaded with flavorful toppings, and the impossible burger was cooked to perfection, making it a delightful culinary experience.<br/><br/>What stood out the most to me was the consistency in taste regardless of the restaurant's location. The flavors were just as enjoyable as I remembered from previous Hard Rock Cafe visits in other cities, proving that they maintain high standards across their establishments.<br/><br/>Although the slow service was a minor drawback, it did not dampen my overall dining experience. The scrumptious food more than made up for it, and I left the restaurant satisfied and looking forward to future visits. Hard Rock Cafe on Pier 39 in San Francisco remains a go-to spot for me whenever I crave delicious loaded cheese nachos and a mouthwatering impossible burger.</span></p>,\n",
       " <p class=\"comment__09f24__ZU8MN css-qgunke\"><span class=\"raw__09f24__T4Ezm\">Hello Vaibhavi, apologies for the slow service. We are working on speeding things up a bit. Thank you for the feedback. Its the only way to improve! Hope to see you again soon. <br/>Best, James</span> </p>,\n",
       " <p class=\"comment__09f24__D0cxf css-qgunke\"><span class=\"raw__09f24__T4Ezm\" lang=\"en\">The food was quite fine even tho im not a burger fan. But it was soooooo slow. Wan't special</span></p>,\n",
       " <p class=\"comment__09f24__D0cxf css-qgunke\"><span class=\"raw__09f24__T4Ezm\" lang=\"en\">I recently ordered delivery from Hard Rock Cafe and I must say, I was quite disappointed. The food took forever to arrive and when it finally did, it was lukewarm and not very appealing. The portion sizes were small for the price and the overall taste was mediocre at best. The delivery service was also unorganized and the order was missing items. I wouldn't recommend ordering from Hard Rock Cafe for delivery if you're looking for a satisfying meal.</span></p>,\n",
       " <p class=\"comment__09f24__D0cxf css-qgunke\"><span class=\"raw__09f24__T4Ezm\" lang=\"en\">Nice spot at Pier 39.<br/><br/>There was a bit of a wait, but let me share... there's no room for waiting!  It's connected to their shop, but annoyed me with all the strollers and people blocking the Check-in area.  I do love the items they sell!<br/><br/>There's rock music and videos playing!!! Wonderful!!!<br/><br/>The food is really good!  The salad was very balanced!  Not watery even with noodles!  <br/><br/>The drinks were good... shots cost extra... just get a drink on the rocks and save some money!  :) <br/><br/>The servers are attentive and friendly!  <br/><br/>Okay... here's the missing star... they don't allow you to select the tip!  18% is added onto the bill, along with other SF taxes.  Not that I'm a cheap tipper, but wow... and of course, I didn't complain, but some information should be posted or at least added to the Menu!!!  Some people need notice before this extreme non-customer service behavior!  <br/><br/>Clean restrooms!  <br/><br/>Parking garage across the street, which is about $15/4hours.</span></p>]"
      ]
     },
     "execution_count": 123,
     "metadata": {},
     "output_type": "execute_result"
    }
   ],
   "source": [
    "results"
   ]
  },
  {
   "cell_type": "code",
   "execution_count": 126,
   "id": "7ae65b60-c603-4c89-82be-44533fc93a59",
   "metadata": {},
   "outputs": [],
   "source": [
    "reviews=[result.text for result in results]"
   ]
  },
  {
   "cell_type": "code",
   "execution_count": 127,
   "id": "37b63cd0-3c18-42b9-8644-510cb06445b6",
   "metadata": {},
   "outputs": [
    {
     "data": {
      "text/plain": [
       "[\"The last time I went to a Hard Rock Cafe was years ago in Vegas, and didn't remember what it was like. After coming here, makes sense why it wasn't memorable. It's definitely a tourist spot and I was expecting a more exciting menu. Their menu is pretty limited food wise and pricey for what they serve. All they really serve is burgers and chicken sandwiches with maybe 5 other entrees to pick from. My coworker and I decided to go to Pier 39 after a work conference. We ate at the restaurant around 5:30 on a Thursday and we were seated right away. The place wasn't too busy, one large group and maybe 5 or 6 other tables were full. There was a live DJ playing. I ordered their Mac and cheese and my friend got a burger. We also got the onion ring tower and I ordered their signature hurricane with the souvenir glass for $5 more and you also get 8 oz more of the beverage. The Mac and cheese was ok, it had a strong red bell pepper flavor to it. The burger was good but the fries were bland. Our favorite item was the onion rings. They came out piping hot and crispy. The hurricane was tasty, definitely my type of tropical flavors. Overall it was alright, not a place I'd choose to go to again even if I were to bring people from out of town into the Bay. There's better options for food even for tourist spots. The restaurant was clean and service was fine.\",\n",
       " 'Hello Elizabeth, apologies for your unacceptable experience here in SF. We are always working to improve and thank you for the feedback. We hope to see you again so show you who we really are. Cheers! ',\n",
       " \"First I have to agree with Jessica's post.  If you're looking for a great meal with wonderful atmophere, Hard Rock Cafe can't be beat.  Yes, it's a must visit.One reason that I chose to eat here was because I didn't want to go to the other restaurant.  The other place was Bubba Gump's which was at the end of the pier.  The other reason was because I am a AAA member and this was on the list.  By the way, both are on the list.I ordered the Legendary Burger which when it arrived was larger than it was display on the menu.  Very good and messy.  It definitely came out as I ordered it.  It came with French fries, but I was already too full.The service by Juliesca was excellent.  Very friendly and pretty much was the only waitress around.  It was not packed on an early Sunday afternoon.I would return the next time that I am back in the city.\",\n",
       " 'Hello Samson, thankyou for the great review. Hope to see you again soon! Cheers! ',\n",
       " \"If you're looking for a great meal with a fun atmosphere, Hard Rock Cafe on Pier 39 in San Francisco is a must-visit. My family and I had a wonderful time here, and we couldn't stop raving about the food. The Messi burger was a standout - juicy, flavorful, and cooked to perfection. But it wasn't just the burgers that impressed us - all of our entrees were delicious and satisfying, with generous portions that left us feeling full and happy.But it's not just about the food at Hard Rock Cafe. The lively atmosphere and music memorabilia add to the overall experience, making this a fun spot for families and kids. We loved checking out the guitars, gold records, and other rock 'n' roll artifacts while enjoying our meal. And the service was excellent too - our server was friendly, attentive, and made sure we had everything we needed.Overall, we highly recommend the Hard Rock Cafe in San Francisco. It's a great spot for a meal, whether you're a music fan or just looking for a fun dining experience. We'll definitely be back!\",\n",
       " 'Hello, thank you for the great review and 5 stars. We hope to see you again soon. Cheers! ',\n",
       " \"Stopped in for lunch before the Blue Angels show at the wharf on Saturday. We had made a reservation for four on the app and were sat right away by the friendly hostess. The place is cool and mellow. Always something to look at. We had Donna as are server. She was great and funny. Full of great info and very accommodating with several special adjustments for a vegetarian and a picky kid. They have a big bar area if you want to just swing in for a drink and check it out.The onion rings were very hot & good. I got the grilled chicken sandwich, it was perfectly fine. But nothing too special. My wife got chicken noodle salad with the chicken on the side, as she's a vegetarian. My sister in law got chicken strips. The teenager got burger sliders. The rating is based on:3 for food (what you'd expect from a chain like this)5 for server (Donna) and 4 atmosphere (lots to look at)It's one of the better choices for a casual lunch, if you find yourself at the wharf.\",\n",
       " 'Hello Matthew, thank you for the great feedback. Donna is amazing! Apologies for the 3 star rating on the food. We will do better. Hope to see you again soon. Best. ',\n",
       " 'exceptionally delicious. We had some chicken wings as a starter, I loved the baby back ribs main dishes,ribeye it was also delicious. The most exquisite part was the dessert, the chocolate brownie! Very attentive management, and staff... restrooms clean, and stocked, recommend it 100%!',\n",
       " 'Hello Katherine, thank you for the great review and 5 stars. We hope to see you again soon! Cheers! ',\n",
       " \"Of the numerous times we've been to the city, I've never picked up a T-shirt from here.  HRC t's are my must-have travel souvenir.  I've been to a few :Barcelona Buenos Aires Cayman Islands HonoluluKey WestKona LimaLondon Los Angeles Maui MiamiNew Orleans New York ParisPhiladelphia Phoenix RomeSan Francisco Seattle TokyoWashington D.C.ATMOSPHERE:Located in bustling and tourist-infested Pier 39, they couldn't have picked a more lucrative spot (relocated once).  The exterior features a big steel structure outline of a guitar which you walk through to enter the restaurant.  Inside, it's a no-frills, open space with the usual memorabilia adorning the walls.  The good-sized Rock Shop has a separate entrance but seamlessly blends into the restaurant.  THE PURCHASE:I loathe the white tee with the original design.  I want a unique-looking motif, which I found for $35!I've never seen it at any other location.  It's a tasteful blue & white tie dye color with the original logo in a different typeface.  Perfect!SERVICE:Really good.  One associate asked if I needed assistance as I was perusing the merch and the cashier was very friendly and engaging.  TIP:Fear not as the loud overhead music is part of their bygone era.  OVERALL:Long live HRC!\",\n",
       " 'Hello Vince. Thank you for the great feedback. Hope to see you again soon! ',\n",
       " \"During my recent visit to Hard Rock Cafe on Pier 39 in San Francisco, I was immediately impressed by the restaurant's expansive and spacious layout. The ambiance was lively, and the staff welcomed me with a friendly and courteous demeanor. However, I did notice that the service was a bit slow, and it took longer than expected for our orders to be fulfilled.Nevertheless, any concerns about the service were quickly overshadowed by the delicious food they served. As a devoted fan of loaded cheese nachos and impossible burgers, I was thrilled to find that Hard Rock Cafe's versions of these dishes were exceptional. The nachos were loaded with flavorful toppings, and the impossible burger was cooked to perfection, making it a delightful culinary experience.What stood out the most to me was the consistency in taste regardless of the restaurant's location. The flavors were just as enjoyable as I remembered from previous Hard Rock Cafe visits in other cities, proving that they maintain high standards across their establishments.Although the slow service was a minor drawback, it did not dampen my overall dining experience. The scrumptious food more than made up for it, and I left the restaurant satisfied and looking forward to future visits. Hard Rock Cafe on Pier 39 in San Francisco remains a go-to spot for me whenever I crave delicious loaded cheese nachos and a mouthwatering impossible burger.\",\n",
       " 'Hello Vaibhavi, apologies for the slow service. We are working on speeding things up a bit. Thank you for the feedback. Its the only way to improve! Hope to see you again soon. Best, James ',\n",
       " \"The food was quite fine even tho im not a burger fan. But it was soooooo slow. Wan't special\",\n",
       " \"I recently ordered delivery from Hard Rock Cafe and I must say, I was quite disappointed. The food took forever to arrive and when it finally did, it was lukewarm and not very appealing. The portion sizes were small for the price and the overall taste was mediocre at best. The delivery service was also unorganized and the order was missing items. I wouldn't recommend ordering from Hard Rock Cafe for delivery if you're looking for a satisfying meal.\",\n",
       " \"Nice spot at Pier 39.There was a bit of a wait, but let me share... there's no room for waiting!  It's connected to their shop, but annoyed me with all the strollers and people blocking the Check-in area.  I do love the items they sell!There's rock music and videos playing!!! Wonderful!!!The food is really good!  The salad was very balanced!  Not watery even with noodles!  The drinks were good... shots cost extra... just get a drink on the rocks and save some money!  :) The servers are attentive and friendly!  Okay... here's the missing star... they don't allow you to select the tip!  18% is added onto the bill, along with other SF taxes.  Not that I'm a cheap tipper, but wow... and of course, I didn't complain, but some information should be posted or at least added to the Menu!!!  Some people need notice before this extreme non-customer service behavior!  Clean restrooms!  Parking garage across the street, which is about $15/4hours.\"]"
      ]
     },
     "execution_count": 127,
     "metadata": {},
     "output_type": "execute_result"
    }
   ],
   "source": [
    "reviews"
   ]
  },
  {
   "cell_type": "code",
   "execution_count": 128,
   "id": "13bb7f1c-e870-4fab-bf0f-8ad6b227556b",
   "metadata": {},
   "outputs": [],
   "source": [
    "df=pd.DataFrame(np.array(reviews),columns=['reviews'])"
   ]
  },
  {
   "cell_type": "code",
   "execution_count": 129,
   "id": "2c19d56b-666d-427c-99e7-d3f9fc363db3",
   "metadata": {},
   "outputs": [
    {
     "data": {
      "text/html": [
       "<div>\n",
       "<style scoped>\n",
       "    .dataframe tbody tr th:only-of-type {\n",
       "        vertical-align: middle;\n",
       "    }\n",
       "\n",
       "    .dataframe tbody tr th {\n",
       "        vertical-align: top;\n",
       "    }\n",
       "\n",
       "    .dataframe thead th {\n",
       "        text-align: right;\n",
       "    }\n",
       "</style>\n",
       "<table border=\"1\" class=\"dataframe\">\n",
       "  <thead>\n",
       "    <tr style=\"text-align: right;\">\n",
       "      <th></th>\n",
       "      <th>reviews</th>\n",
       "    </tr>\n",
       "  </thead>\n",
       "  <tbody>\n",
       "    <tr>\n",
       "      <th>0</th>\n",
       "      <td>The last time I went to a Hard Rock Cafe was y...</td>\n",
       "    </tr>\n",
       "    <tr>\n",
       "      <th>1</th>\n",
       "      <td>Hello Elizabeth, apologies for your unacceptab...</td>\n",
       "    </tr>\n",
       "    <tr>\n",
       "      <th>2</th>\n",
       "      <td>First I have to agree with Jessica's post.  If...</td>\n",
       "    </tr>\n",
       "    <tr>\n",
       "      <th>3</th>\n",
       "      <td>Hello Samson, thankyou for the great review. H...</td>\n",
       "    </tr>\n",
       "    <tr>\n",
       "      <th>4</th>\n",
       "      <td>If you're looking for a great meal with a fun ...</td>\n",
       "    </tr>\n",
       "    <tr>\n",
       "      <th>5</th>\n",
       "      <td>Hello, thank you for the great review and 5 st...</td>\n",
       "    </tr>\n",
       "    <tr>\n",
       "      <th>6</th>\n",
       "      <td>Stopped in for lunch before the Blue Angels sh...</td>\n",
       "    </tr>\n",
       "    <tr>\n",
       "      <th>7</th>\n",
       "      <td>Hello Matthew, thank you for the great feedbac...</td>\n",
       "    </tr>\n",
       "    <tr>\n",
       "      <th>8</th>\n",
       "      <td>exceptionally delicious. We had some chicken w...</td>\n",
       "    </tr>\n",
       "    <tr>\n",
       "      <th>9</th>\n",
       "      <td>Hello Katherine, thank you for the great revie...</td>\n",
       "    </tr>\n",
       "    <tr>\n",
       "      <th>10</th>\n",
       "      <td>Of the numerous times we've been to the city, ...</td>\n",
       "    </tr>\n",
       "    <tr>\n",
       "      <th>11</th>\n",
       "      <td>Hello Vince. Thank you for the great feedback....</td>\n",
       "    </tr>\n",
       "    <tr>\n",
       "      <th>12</th>\n",
       "      <td>During my recent visit to Hard Rock Cafe on Pi...</td>\n",
       "    </tr>\n",
       "    <tr>\n",
       "      <th>13</th>\n",
       "      <td>Hello Vaibhavi, apologies for the slow service...</td>\n",
       "    </tr>\n",
       "    <tr>\n",
       "      <th>14</th>\n",
       "      <td>The food was quite fine even tho im not a burg...</td>\n",
       "    </tr>\n",
       "    <tr>\n",
       "      <th>15</th>\n",
       "      <td>I recently ordered delivery from Hard Rock Caf...</td>\n",
       "    </tr>\n",
       "    <tr>\n",
       "      <th>16</th>\n",
       "      <td>Nice spot at Pier 39.There was a bit of a wait...</td>\n",
       "    </tr>\n",
       "  </tbody>\n",
       "</table>\n",
       "</div>"
      ],
      "text/plain": [
       "                                              reviews\n",
       "0   The last time I went to a Hard Rock Cafe was y...\n",
       "1   Hello Elizabeth, apologies for your unacceptab...\n",
       "2   First I have to agree with Jessica's post.  If...\n",
       "3   Hello Samson, thankyou for the great review. H...\n",
       "4   If you're looking for a great meal with a fun ...\n",
       "5   Hello, thank you for the great review and 5 st...\n",
       "6   Stopped in for lunch before the Blue Angels sh...\n",
       "7   Hello Matthew, thank you for the great feedbac...\n",
       "8   exceptionally delicious. We had some chicken w...\n",
       "9   Hello Katherine, thank you for the great revie...\n",
       "10  Of the numerous times we've been to the city, ...\n",
       "11  Hello Vince. Thank you for the great feedback....\n",
       "12  During my recent visit to Hard Rock Cafe on Pi...\n",
       "13  Hello Vaibhavi, apologies for the slow service...\n",
       "14  The food was quite fine even tho im not a burg...\n",
       "15  I recently ordered delivery from Hard Rock Caf...\n",
       "16  Nice spot at Pier 39.There was a bit of a wait..."
      ]
     },
     "execution_count": 129,
     "metadata": {},
     "output_type": "execute_result"
    }
   ],
   "source": [
    "df"
   ]
  },
  {
   "cell_type": "code",
   "execution_count": 130,
   "id": "933a2034-e986-4fee-a42f-39d1e2deb05e",
   "metadata": {},
   "outputs": [
    {
     "data": {
      "text/plain": [
       "'Hello Vince. Thank you for the great feedback. Hope to see you again soon! '"
      ]
     },
     "execution_count": 130,
     "metadata": {},
     "output_type": "execute_result"
    }
   ],
   "source": [
    "df['reviews'][11]"
   ]
  },
  {
   "cell_type": "code",
   "execution_count": 131,
   "id": "05359073-d1f4-41f0-92ce-5d43ae8e3062",
   "metadata": {},
   "outputs": [],
   "source": [
    "def sentiment(str):\n",
    "    token = tokenizer.encode(str,return_tensors='pt')\n",
    "    result=model(token)\n",
    "    return int(torch.argmax(result.logits))+1\n",
    "    \n",
    "    "
   ]
  },
  {
   "cell_type": "code",
   "execution_count": 132,
   "id": "687e2dee-4ea9-4d24-a96f-857a545d85c5",
   "metadata": {},
   "outputs": [
    {
     "data": {
      "text/plain": [
       "5"
      ]
     },
     "execution_count": 132,
     "metadata": {},
     "output_type": "execute_result"
    }
   ],
   "source": [
    "sentiment(df['reviews'].iloc[11])"
   ]
  },
  {
   "cell_type": "code",
   "execution_count": 133,
   "id": "e2d77468-5bba-4949-9f3d-3da0771af745",
   "metadata": {},
   "outputs": [],
   "source": [
    "df['sentiment']=df['reviews'].apply(lambda x: sentiment(x[:-1]))"
   ]
  },
  {
   "cell_type": "code",
   "execution_count": 134,
   "id": "14aacb44-fabe-4026-ae44-e1bfce9cae9f",
   "metadata": {},
   "outputs": [
    {
     "data": {
      "text/html": [
       "<div>\n",
       "<style scoped>\n",
       "    .dataframe tbody tr th:only-of-type {\n",
       "        vertical-align: middle;\n",
       "    }\n",
       "\n",
       "    .dataframe tbody tr th {\n",
       "        vertical-align: top;\n",
       "    }\n",
       "\n",
       "    .dataframe thead th {\n",
       "        text-align: right;\n",
       "    }\n",
       "</style>\n",
       "<table border=\"1\" class=\"dataframe\">\n",
       "  <thead>\n",
       "    <tr style=\"text-align: right;\">\n",
       "      <th></th>\n",
       "      <th>reviews</th>\n",
       "      <th>sentiment</th>\n",
       "    </tr>\n",
       "  </thead>\n",
       "  <tbody>\n",
       "    <tr>\n",
       "      <th>0</th>\n",
       "      <td>The last time I went to a Hard Rock Cafe was y...</td>\n",
       "      <td>3</td>\n",
       "    </tr>\n",
       "    <tr>\n",
       "      <th>1</th>\n",
       "      <td>Hello Elizabeth, apologies for your unacceptab...</td>\n",
       "      <td>1</td>\n",
       "    </tr>\n",
       "    <tr>\n",
       "      <th>2</th>\n",
       "      <td>First I have to agree with Jessica's post.  If...</td>\n",
       "      <td>3</td>\n",
       "    </tr>\n",
       "    <tr>\n",
       "      <th>3</th>\n",
       "      <td>Hello Samson, thankyou for the great review. H...</td>\n",
       "      <td>5</td>\n",
       "    </tr>\n",
       "    <tr>\n",
       "      <th>4</th>\n",
       "      <td>If you're looking for a great meal with a fun ...</td>\n",
       "      <td>4</td>\n",
       "    </tr>\n",
       "    <tr>\n",
       "      <th>5</th>\n",
       "      <td>Hello, thank you for the great review and 5 st...</td>\n",
       "      <td>5</td>\n",
       "    </tr>\n",
       "    <tr>\n",
       "      <th>6</th>\n",
       "      <td>Stopped in for lunch before the Blue Angels sh...</td>\n",
       "      <td>4</td>\n",
       "    </tr>\n",
       "    <tr>\n",
       "      <th>7</th>\n",
       "      <td>Hello Matthew, thank you for the great feedbac...</td>\n",
       "      <td>3</td>\n",
       "    </tr>\n",
       "    <tr>\n",
       "      <th>8</th>\n",
       "      <td>exceptionally delicious. We had some chicken w...</td>\n",
       "      <td>5</td>\n",
       "    </tr>\n",
       "    <tr>\n",
       "      <th>9</th>\n",
       "      <td>Hello Katherine, thank you for the great revie...</td>\n",
       "      <td>5</td>\n",
       "    </tr>\n",
       "    <tr>\n",
       "      <th>10</th>\n",
       "      <td>Of the numerous times we've been to the city, ...</td>\n",
       "      <td>4</td>\n",
       "    </tr>\n",
       "    <tr>\n",
       "      <th>11</th>\n",
       "      <td>Hello Vince. Thank you for the great feedback....</td>\n",
       "      <td>5</td>\n",
       "    </tr>\n",
       "    <tr>\n",
       "      <th>12</th>\n",
       "      <td>During my recent visit to Hard Rock Cafe on Pi...</td>\n",
       "      <td>4</td>\n",
       "    </tr>\n",
       "    <tr>\n",
       "      <th>13</th>\n",
       "      <td>Hello Vaibhavi, apologies for the slow service...</td>\n",
       "      <td>4</td>\n",
       "    </tr>\n",
       "    <tr>\n",
       "      <th>14</th>\n",
       "      <td>The food was quite fine even tho im not a burg...</td>\n",
       "      <td>3</td>\n",
       "    </tr>\n",
       "    <tr>\n",
       "      <th>15</th>\n",
       "      <td>I recently ordered delivery from Hard Rock Caf...</td>\n",
       "      <td>2</td>\n",
       "    </tr>\n",
       "    <tr>\n",
       "      <th>16</th>\n",
       "      <td>Nice spot at Pier 39.There was a bit of a wait...</td>\n",
       "      <td>3</td>\n",
       "    </tr>\n",
       "  </tbody>\n",
       "</table>\n",
       "</div>"
      ],
      "text/plain": [
       "                                              reviews  sentiment\n",
       "0   The last time I went to a Hard Rock Cafe was y...          3\n",
       "1   Hello Elizabeth, apologies for your unacceptab...          1\n",
       "2   First I have to agree with Jessica's post.  If...          3\n",
       "3   Hello Samson, thankyou for the great review. H...          5\n",
       "4   If you're looking for a great meal with a fun ...          4\n",
       "5   Hello, thank you for the great review and 5 st...          5\n",
       "6   Stopped in for lunch before the Blue Angels sh...          4\n",
       "7   Hello Matthew, thank you for the great feedbac...          3\n",
       "8   exceptionally delicious. We had some chicken w...          5\n",
       "9   Hello Katherine, thank you for the great revie...          5\n",
       "10  Of the numerous times we've been to the city, ...          4\n",
       "11  Hello Vince. Thank you for the great feedback....          5\n",
       "12  During my recent visit to Hard Rock Cafe on Pi...          4\n",
       "13  Hello Vaibhavi, apologies for the slow service...          4\n",
       "14  The food was quite fine even tho im not a burg...          3\n",
       "15  I recently ordered delivery from Hard Rock Caf...          2\n",
       "16  Nice spot at Pier 39.There was a bit of a wait...          3"
      ]
     },
     "execution_count": 134,
     "metadata": {},
     "output_type": "execute_result"
    }
   ],
   "source": [
    "df"
   ]
  }
 ],
 "metadata": {
  "kernelspec": {
   "display_name": "Python 3 (ipykernel)",
   "language": "python",
   "name": "python3"
  },
  "language_info": {
   "codemirror_mode": {
    "name": "ipython",
    "version": 3
   },
   "file_extension": ".py",
   "mimetype": "text/x-python",
   "name": "python",
   "nbconvert_exporter": "python",
   "pygments_lexer": "ipython3",
   "version": "3.9.0"
  }
 },
 "nbformat": 4,
 "nbformat_minor": 5
}
